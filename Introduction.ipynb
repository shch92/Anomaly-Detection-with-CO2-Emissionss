{
 "cells": [
  {
   "cell_type": "markdown",
   "metadata": {},
   "source": [
    "# Problem Statement\n",
    "\n",
    "In order to take meaningful action on climate, the governments, NGOs, and the private sector need access to independent, granular, and recent emissions data. In COP29, Al Gore and Gavin McCormick (co-founders of the nonprofit [Climate TRACE coalition](https://climatetrace.org/)) revealed the newest data for tracking emissions from hundreds of millions of sources around the world. The reporting of this data to ClimateTrace is voluntary and at times may even include anomalous values due to human error or governments greenwashing their figures. \n",
    "\n",
    "This issue of anomalous data is most \n",
    "\n",
    "\n"
   ]
  }
 ],
 "metadata": {
  "language_info": {
   "name": "python"
  }
 },
 "nbformat": 4,
 "nbformat_minor": 2
}
