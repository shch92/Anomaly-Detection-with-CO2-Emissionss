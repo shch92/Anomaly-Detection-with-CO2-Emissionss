{
 "cells": [
  {
   "cell_type": "markdown",
   "metadata": {},
   "source": [
    "# Problem Statement\n",
    "\n",
    "In order to take meaningful action on climate, the governments, NGOs, and the private sector need access to independent, granular, and recent emissions data. In COP29, Al Gore and Gavin McCormick (co-founders of the nonprofit [Climate TRACE coalition](https://climatetrace.org/)) revealed the newest data for tracking emissions from hundreds of millions of sources around the world. The reporting of this data to ClimateTrace is voluntary and at times may even include anomalous values due to human error or governments greenwashing their figures. \n",
    "\n",
    "This issue of anomalous data can have global effects as greenwashing creates a false sense of sustainability. It misleads consumers, investors, and regulators about the true environmental impact of a company or government's activities. This in turn prevents meaningful progress toward climate goals, misdirects resources, and undermines trust in genuine efforts to combat climate change. Additionally, it affects any modelling being undertaken with the data that can lead to incorrect future predictions.\n",
    "\n",
    "As part of an effort to catch any such erraneous data, this project aims to create an anomaly detection model for the Oil and Gas emissions being reported by the various governments around the world. \n",
    "\n",
    "Let's start by loading the data. We will load the data for the Oil and Gas Production Emissions by Country."
   ]
  },
  {
   "cell_type": "code",
   "execution_count": 1,
   "metadata": {},
   "outputs": [
    {
     "name": "stdout",
     "output_type": "stream",
     "text": [
      "<class 'pandas.core.frame.DataFrame'>\n",
      "RangeIndex: 12096 entries, 0 to 12095\n",
      "Data columns (total 11 columns):\n",
      " #   Column                    Non-Null Count  Dtype  \n",
      "---  ------                    --------------  -----  \n",
      " 0   iso3_country              12096 non-null  object \n",
      " 1   sector                    12096 non-null  object \n",
      " 2   subsector                 12096 non-null  object \n",
      " 3   start_time                12096 non-null  object \n",
      " 4   end_time                  12096 non-null  object \n",
      " 5   gas                       12096 non-null  object \n",
      " 6   emissions_quantity        12096 non-null  float64\n",
      " 7   emissions_quantity_units  0 non-null      float64\n",
      " 8   temporal_granularity      12096 non-null  object \n",
      " 9   created_date              0 non-null      float64\n",
      " 10  modified_date             0 non-null      float64\n",
      "dtypes: float64(4), object(7)\n",
      "memory usage: 1.0+ MB\n"
     ]
    }
   ],
   "source": [
    "import numpy as np\n",
    "import pandas as pd\n",
    "\n",
    "ong_country = pd.read_csv(\"data/oil-and-gas-production_country_emissions.csv\")\n",
    "ong_country.info()"
   ]
  }
 ],
 "metadata": {
  "kernelspec": {
   "display_name": "base",
   "language": "python",
   "name": "python3"
  },
  "language_info": {
   "codemirror_mode": {
    "name": "ipython",
    "version": 3
   },
   "file_extension": ".py",
   "mimetype": "text/x-python",
   "name": "python",
   "nbconvert_exporter": "python",
   "pygments_lexer": "ipython3",
   "version": "3.12.7"
  }
 },
 "nbformat": 4,
 "nbformat_minor": 2
}
